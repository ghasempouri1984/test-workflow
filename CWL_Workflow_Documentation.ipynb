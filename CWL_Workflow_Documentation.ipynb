{
 "cells": [
  {
   "attachments": {},
   "cell_type": "markdown",
   "metadata": {},
   "source": [
    "# CWL Workflow Documentation"
   ]
  },
  {
   "attachments": {},
   "cell_type": "markdown",
   "metadata": {},
   "source": [
    "This documentation provides an overview of the Continuous Workflow Integration using GitHub Actions and Common Workflow Language (CWL). The goal of this workflow is to execute a CWL workflow on GitHub whenever a push event occurs on the main branch of the repository. In addition to the technical details, we will also explore the motivations behind implementing this workflow.\n",
    "\n",
    "The motivation behind implementing this CWL workflow using GitHub Actions encompasses several key aspects:\n",
    "\n",
    "- Automation and Continuous Integration: By setting up this workflow, we aim to automate the execution of CWL workflows whenever changes are pushed to the main branch of the repository. This ensures that the workflow is consistently tested and executed in a controlled environment, promoting reliability and efficiency in our data analysis pipeline.\n",
    "\n",
    "- Version Control and Collaboration: GitHub provides robust version control and collaboration features. By integrating CWL workflows with GitHub Actions, we leverage these features to manage changes, track workflow execution history, and enable collaborative development on the CWL workflows. It fosters effective teamwork and facilitates seamless contribution to the project.\n",
    "\n",
    "- Reproducibility and Portability: CWL is widely adopted as a standard for defining bioinformatics workflows. By utilizing CWL and running workflows through GitHub Actions, we enhance the reproducibility of our analysis pipelines. This allows other researchers to easily reproduce and validate our results, fostering scientific transparency, reproducibility, and collaboration.\n",
    "\n",
    "- Efficiency and Scalability: GitHub Actions provides a scalable infrastructure to execute workflows on cloud-based virtual machines. This empowers us to leverage powerful computing resources and parallelize the execution of our CWL workflows. Consequently, we improve efficiency and reduce the overall execution time, enabling faster data analysis and enhancing scalability.\n",
    "\n",
    "- Ease of Setup and Configuration: GitHub Actions simplifies the setup and configuration of continuous workflows. The declarative YAML syntax used to define the workflow allows straightforward specification of desired steps, dependencies, and triggers. This ease of setup enables quick adoption and maintenance of the CWL workflow integration, streamlining development processes."
   ]
  },
  {
   "attachments": {},
   "cell_type": "markdown",
   "metadata": {},
   "source": [
    "## Workflow Configuration"
   ]
  },
  {
   "attachments": {},
   "cell_type": "markdown",
   "metadata": {},
   "source": [
    "To set up the CWL workflow, the following steps were taken:\n",
    "\n",
    "- Create the .github/workflows/ directory in the main repository.\n",
    "\n",
    "- Inside the .github/workflows/ directory, create the main.yml file to define the workflow.\n",
    "\n",
    "The contents of the main.yml file are as follows:"
   ]
  },
  {
   "cell_type": "code",
   "execution_count": null,
   "metadata": {
    "vscode": {
     "languageId": "plaintext"
    }
   },
   "outputs": [],
   "source": [
    "name: CWL Workflow\n",
    "\n",
    "on:\n",
    "  push:\n",
    "    branches: [main]\n",
    "\n",
    "jobs:\n",
    "  run-cwl:\n",
    "    runs-on: ubuntu-latest\n",
    "\n",
    "    steps:\n",
    "      - uses: actions/checkout@v2\n",
    "\n",
    "      - name: Set up Python\n",
    "        uses: actions/setup-python@v2\n",
    "        with:\n",
    "          python-version: 3.8\n",
    "\n",
    "      - name: Install dependencies\n",
    "        run: |\n",
    "          python -m pip install --upgrade pip\n",
    "          if [ -f requirements.txt ]; then pip install -r requirements.txt; fi\n",
    "          pip install cwlref-runner\n",
    "\n",
    "      - name: Set execute permission for run_workflow.py\n",
    "        run: chmod +x run_workflow.py\n",
    "\n",
    "      - name: List directory contents\n",
    "        run: ls -l\n",
    "\n",
    "      - name: Run CWL workflow\n",
    "        run: |\n",
    "          cwltool $GITHUB_WORKSPACE/run_workflow.cwl $GITHUB_WORKSPACE/input.yml\n"
   ]
  },
  {
   "attachments": {},
   "cell_type": "markdown",
   "metadata": {},
   "source": [
    "The workflow is triggered whenever a push event occurs on the main branch of the repository. It runs on an ubuntu-latest virtual machine. The steps in the workflow include:\n",
    "\n",
    "1. Checking out the repository code using actions/checkout@v2.\n",
    "2. Setting up Python 3.8 using actions/setup-python@v2.\n",
    "3. Installing the required dependencies, including cwlref-runner, using pip.\n",
    "4. Setting the execute permission for the run_workflow.py script.\n",
    "5. Listing the directory contents to verify the files.\n",
    "6. Running the CWL workflow using cwltool with the run_workflow.cwl file and input.yml file as inputs."
   ]
  },
  {
   "attachments": {},
   "cell_type": "markdown",
   "metadata": {},
   "source": [
    "## CWL Workflow Definition"
   ]
  },
  {
   "attachments": {},
   "cell_type": "markdown",
   "metadata": {},
   "source": [
    "The CWL workflow is defined in the run_workflow.cwl file located in the main repository. The contents of the run_workflow.cwl file are as follows:"
   ]
  },
  {
   "cell_type": "code",
   "execution_count": null,
   "metadata": {
    "vscode": {
     "languageId": "plaintext"
    }
   },
   "outputs": [],
   "source": [
    "cwlVersion: v1.0\n",
    "class: CommandLineTool\n",
    "\n",
    "baseCommand: [\"python\"]\n",
    "\n",
    "inputs:\n",
    "  script:\n",
    "    type: File\n",
    "  oc_meta:\n",
    "    type: Directory\n",
    "  erih_plus:\n",
    "    type: File\n",
    "  doaj:\n",
    "    type: File\n",
    "\n",
    "arguments:\n",
    "  - valueFrom: $(inputs.script.path)\n",
    "\n",
    "outputs:\n",
    "  result:\n",
    "    type: stdout\n",
    "  OCMeta_DOAJ_ErihPlus_merged:\n",
    "    type: File\n",
    "    outputBinding:\n",
    "      glob: \"OCMeta_DOAJ_ErihPlus_merged.csv\"\n",
    "\n",
    "stdout: result.txt\n"
   ]
  },
  {
   "attachments": {},
   "cell_type": "markdown",
   "metadata": {},
   "source": [
    "This CWL workflow is defined as a CommandLineTool with Python as the base command. It takes four input files: script, oc_meta, erih_plus, and doaj. The script input represents the main script file (run_workflow.py). The oc_meta, erih_plus, and doaj inputs represent various data files used by the script.\n",
    "\n",
    "The workflow uses the value of the script input as the main script file to be executed. It produces two outputs: result and OCMeta_DOAJ_ErihPlus_merged. The result output represents the standard output, while the OCMeta_DOAJ_ErihPlus_merged output is a file with a glob pattern indicating \"OCMeta_DOAJ_ErihPlus_merged.csv\"."
   ]
  },
  {
   "attachments": {},
   "cell_type": "markdown",
   "metadata": {},
   "source": [
    "### Explanation of input.yml file"
   ]
  },
  {
   "attachments": {},
   "cell_type": "markdown",
   "metadata": {},
   "source": [
    "The input.yml file defines the inputs for the CWL workflow. Each input is specified with its name, class, and location.\n",
    "\n"
   ]
  },
  {
   "cell_type": "code",
   "execution_count": null,
   "metadata": {
    "vscode": {
     "languageId": "plaintext"
    }
   },
   "outputs": [],
   "source": [
    "script:\n",
    "  class: File\n",
    "  location: run_workflow.py\n",
    "oc_meta:\n",
    "  class: Directory\n",
    "  location: csv_dump/\n",
    "erih_plus:\n",
    "  class: File\n",
    "  location: ERIHPLUSapprovedJournals.csv\n",
    "doaj:\n",
    "  class: File\n",
    "  location: journalcsv__doaj.csv\n"
   ]
  },
  {
   "attachments": {},
   "cell_type": "markdown",
   "metadata": {},
   "source": [
    "These inputs are used by the CWL workflow to provide the necessary files and directories required for the execution of the run_workflow.py script.\n",
    "\n",
    "By customizing the values in the input.yml file, you can provide different input files and directories to the CWL workflow, depending on your specific requirements and data sources.\n",
    "\n",
    "- script: This input represents the main script file (run_workflow.py). The class is set to File, indicating that it represents a file input. The location specifies the path or location of the run_workflow.py script.\n",
    "\n",
    "- oc_meta: This input represents a directory input named oc_meta. The class is set to Directory, indicating that it represents a directory input. The location specifies the path or location of the csv_dump/ directory.\n",
    "\n",
    "- erih_plus: This input represents a file input named erih_plus. The class is set to File, indicating that it represents a file input. The location specifies the path or location of the ERIHPLUSapprovedJournals.csv file.\n",
    "\n",
    "- doaj: This input represents a file input named doaj. The class is set to File, indicating that it represents a file input. The location specifies the path or location of the journalcsv__doaj.csv file."
   ]
  }
 ],
 "metadata": {
  "language_info": {
   "name": "python"
  },
  "orig_nbformat": 4
 },
 "nbformat": 4,
 "nbformat_minor": 2
}
